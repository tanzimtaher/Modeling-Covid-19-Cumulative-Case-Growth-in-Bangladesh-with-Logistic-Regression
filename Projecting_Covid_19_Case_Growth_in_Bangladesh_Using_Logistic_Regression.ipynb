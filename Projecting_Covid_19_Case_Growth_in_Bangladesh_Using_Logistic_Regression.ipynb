{
 "cells": [
  {
   "cell_type": "markdown",
   "metadata": {
    "colab_type": "text",
    "id": "v1HmHsbrwoJo"
   },
   "source": [
    "# Prologue"
   ]
  },
  {
   "cell_type": "markdown",
   "metadata": {
    "colab_type": "text",
    "id": "QSEt4RdhwrBU"
   },
   "source": [
    "For this project we will use the logistic regression function to model the growth of confirmed Covid-19 case population growth in Bangladesh. The logistic regression function is commonly used in classification problems, and in this project we will be examining how it fares as a regression tool. Both cumulative case counts over time and logistic regression curves have a sigmoid shape and we shall try to fit a theoretically predicted curve over the actual cumulative case counts over time to reach certain conclusions about the case count growth, such as the time of peak daily new cases and the total cases that may be reached during this outbreak."
   ]
  },
  {
   "cell_type": "markdown",
   "metadata": {
    "colab_type": "text",
    "id": "pEPKfSo2M26z"
   },
   "source": [
    "# Import the necessary modules"
   ]
  },
  {
   "cell_type": "code",
   "execution_count": 1,
   "metadata": {
    "colab": {},
    "colab_type": "code",
    "id": "uHNTs2fZM_0H"
   },
   "outputs": [],
   "source": [
    "import pandas as pd\n",
    "import numpy as np\n",
    "from datetime import datetime,timedelta\n",
    "from sklearn.metrics import mean_squared_error\n",
    "from scipy.optimize import curve_fit\n",
    "from scipy.optimize import fsolve\n",
    "import matplotlib.pyplot as plt\n",
    "%matplotlib inline"
   ]
  },
  {
   "cell_type": "markdown",
   "metadata": {
    "colab_type": "text",
    "id": "xAU4tTuDNArY"
   },
   "source": [
    "# Connect to Google Drive (where the data is kept)"
   ]
  },
  {
   "cell_type": "code",
   "execution_count": 2,
   "metadata": {
    "colab": {
     "base_uri": "https://localhost:8080/",
     "height": 34
    },
    "colab_type": "code",
    "id": "-D_x8cSKEJe3",
    "outputId": "a222d9f7-0278-4b0e-c136-bec7bc0d63be"
   },
   "outputs": [
    {
     "name": "stdout",
     "output_type": "stream",
     "text": [
      "Drive already mounted at /content/drive; to attempt to forcibly remount, call drive.mount(\"/content/drive\", force_remount=True).\n"
     ]
    }
   ],
   "source": [
    "from google.colab import drive\n",
    "drive.mount('/content/drive')"
   ]
  },
  {
   "cell_type": "markdown",
   "metadata": {
    "colab_type": "text",
    "id": "-UzIS99Gvs8L"
   },
   "source": [
    "# Import data and format as needed"
   ]
  },
  {
   "cell_type": "code",
   "execution_count": 3,
   "metadata": {
    "colab": {
     "base_uri": "https://localhost:8080/",
     "height": 198
    },
    "colab_type": "code",
    "id": "0O9r7IJuF1rX",
    "outputId": "3f2c55c7-f067-4b6e-d376-698333274eb0"
   },
   "outputs": [
    {
     "data": {
      "text/html": [
       "<div>\n",
       "<style scoped>\n",
       "    .dataframe tbody tr th:only-of-type {\n",
       "        vertical-align: middle;\n",
       "    }\n",
       "\n",
       "    .dataframe tbody tr th {\n",
       "        vertical-align: top;\n",
       "    }\n",
       "\n",
       "    .dataframe thead th {\n",
       "        text-align: right;\n",
       "    }\n",
       "</style>\n",
       "<table border=\"1\" class=\"dataframe\">\n",
       "  <thead>\n",
       "    <tr style=\"text-align: right;\">\n",
       "      <th></th>\n",
       "      <th>Date</th>\n",
       "      <th>Total cases</th>\n",
       "    </tr>\n",
       "  </thead>\n",
       "  <tbody>\n",
       "    <tr>\n",
       "      <th>126</th>\n",
       "      <td>7-12-2020</td>\n",
       "      <td>183795</td>\n",
       "    </tr>\n",
       "    <tr>\n",
       "      <th>127</th>\n",
       "      <td>7-13-2020</td>\n",
       "      <td>186894</td>\n",
       "    </tr>\n",
       "    <tr>\n",
       "      <th>128</th>\n",
       "      <td>7-14-2020</td>\n",
       "      <td>190057</td>\n",
       "    </tr>\n",
       "    <tr>\n",
       "      <th>129</th>\n",
       "      <td>7-15-2020</td>\n",
       "      <td>193590</td>\n",
       "    </tr>\n",
       "    <tr>\n",
       "      <th>130</th>\n",
       "      <td>7-16-2020</td>\n",
       "      <td>196323</td>\n",
       "    </tr>\n",
       "  </tbody>\n",
       "</table>\n",
       "</div>"
      ],
      "text/plain": [
       "          Date  Total cases\n",
       "126  7-12-2020       183795\n",
       "127  7-13-2020       186894\n",
       "128  7-14-2020       190057\n",
       "129  7-15-2020       193590\n",
       "130  7-16-2020       196323"
      ]
     },
     "execution_count": 3,
     "metadata": {
      "tags": []
     },
     "output_type": "execute_result"
    }
   ],
   "source": [
    "df = pd.read_csv('/content/drive/My Drive/Corona-Cases.n-1.csv')\n",
    "df.tail()"
   ]
  },
  {
   "cell_type": "markdown",
   "metadata": {
    "colab_type": "text",
    "id": "SPi0B5CINUhz"
   },
   "source": [
    "As you can see, the format of the date is 'month-day-year'. Let's specify the date column is datetime type. Let's also specify the formatting as %m-%d-%Y. And then, let's find the day when the first confirmed cases of Covid-19 were reported in Bangladesh."
   ]
  },
  {
   "cell_type": "code",
   "execution_count": 4,
   "metadata": {
    "colab": {},
    "colab_type": "code",
    "id": "lIqQf1hx4hdd"
   },
   "outputs": [],
   "source": [
    "FMT = '%m-%d-%Y'\n",
    "df['Date'] = pd.to_datetime(df['Date'], format=FMT)"
   ]
  },
  {
   "cell_type": "markdown",
   "metadata": {
    "colab_type": "text",
    "id": "TIV95PiJcXEv"
   },
   "source": [
    "We have to initialize the first date of confirmed Covid-19 cases as the datetime variable start_date because we would need it later to calculate the peak."
   ]
  },
  {
   "cell_type": "code",
   "execution_count": 5,
   "metadata": {
    "colab": {
     "base_uri": "https://localhost:8080/",
     "height": 34
    },
    "colab_type": "code",
    "id": "-uC88BrA9que",
    "outputId": "7af20d42-a669-41da-c9bf-ec047506d1a9"
   },
   "outputs": [
    {
     "name": "stdout",
     "output_type": "stream",
     "text": [
      "Start date:  2020-03-08\n"
     ]
    }
   ],
   "source": [
    "# Initialize the start date\n",
    "start_date = datetime.date(df.loc[0, 'Date'])\n",
    "print('Start date: ', start_date)"
   ]
  },
  {
   "cell_type": "markdown",
   "metadata": {
    "colab_type": "text",
    "id": "Q0CZis2zOjOL"
   },
   "source": [
    "Now, for the logistic regression function, we would need a timestep column instead of a date column in the dataframe. So we create a new dataframe called data where we drop the date column and use the index as the timestep column."
   ]
  },
  {
   "cell_type": "code",
   "execution_count": 6,
   "metadata": {
    "colab": {
     "base_uri": "https://localhost:8080/",
     "height": 198
    },
    "colab_type": "code",
    "id": "Dt29_jOvY5iU",
    "outputId": "d4f3db8b-e4ec-40c7-c062-b827958f6478"
   },
   "outputs": [
    {
     "data": {
      "text/html": [
       "<div>\n",
       "<style scoped>\n",
       "    .dataframe tbody tr th:only-of-type {\n",
       "        vertical-align: middle;\n",
       "    }\n",
       "\n",
       "    .dataframe tbody tr th {\n",
       "        vertical-align: top;\n",
       "    }\n",
       "\n",
       "    .dataframe thead th {\n",
       "        text-align: right;\n",
       "    }\n",
       "</style>\n",
       "<table border=\"1\" class=\"dataframe\">\n",
       "  <thead>\n",
       "    <tr style=\"text-align: right;\">\n",
       "      <th></th>\n",
       "      <th>Timestep</th>\n",
       "      <th>Total Cases</th>\n",
       "    </tr>\n",
       "  </thead>\n",
       "  <tbody>\n",
       "    <tr>\n",
       "      <th>126</th>\n",
       "      <td>126</td>\n",
       "      <td>183795</td>\n",
       "    </tr>\n",
       "    <tr>\n",
       "      <th>127</th>\n",
       "      <td>127</td>\n",
       "      <td>186894</td>\n",
       "    </tr>\n",
       "    <tr>\n",
       "      <th>128</th>\n",
       "      <td>128</td>\n",
       "      <td>190057</td>\n",
       "    </tr>\n",
       "    <tr>\n",
       "      <th>129</th>\n",
       "      <td>129</td>\n",
       "      <td>193590</td>\n",
       "    </tr>\n",
       "    <tr>\n",
       "      <th>130</th>\n",
       "      <td>130</td>\n",
       "      <td>196323</td>\n",
       "    </tr>\n",
       "  </tbody>\n",
       "</table>\n",
       "</div>"
      ],
      "text/plain": [
       "     Timestep  Total Cases\n",
       "126       126       183795\n",
       "127       127       186894\n",
       "128       128       190057\n",
       "129       129       193590\n",
       "130       130       196323"
      ]
     },
     "execution_count": 6,
     "metadata": {
      "tags": []
     },
     "output_type": "execute_result"
    }
   ],
   "source": [
    "# drop date column\n",
    "data = df['Total cases']\n",
    "\n",
    "# reset index and create a timestep\n",
    "data = data.reset_index(drop=False)\n",
    "\n",
    "# rename columns\n",
    "data.columns = ['Timestep', 'Total Cases']\n",
    "\n",
    "# check\n",
    "data.tail()"
   ]
  },
  {
   "cell_type": "markdown",
   "metadata": {
    "colab_type": "text",
    "id": "Ejxnv_wrdCQt"
   },
   "source": [
    "# Defining the logistic regression function"
   ]
  },
  {
   "cell_type": "code",
   "execution_count": 7,
   "metadata": {
    "colab": {},
    "colab_type": "code",
    "id": "DANu416pIBUJ"
   },
   "outputs": [],
   "source": [
    "def logistic_model(x,a,b,c):\n",
    "    return c/(1+np.exp(-(x-b)/a))"
   ]
  },
  {
   "cell_type": "markdown",
   "metadata": {
    "colab_type": "text",
    "id": "VkOJLu4uYOrl"
   },
   "source": [
    "In this formula, we have the variable x that is the time and three parameters: a, b, c.\n",
    "* a is a metric for the speed of infections\n",
    "* b is the day with the estimated maximum growth rate of confirmed Covid-19 cases\n",
    "* c is the maximum number the cumulative confirmed cases will reach by the end of the first outbreak here in Bangladesh\n",
    "\n",
    "The growth of cumulative cases follows a sigmoid shape like the logistic regression curve and hence, this may be a good way to model the growth of the confirmed Covid-19 case population over time. For the first outbreak at least. It makes sense because, for an outbreak, the rise in cumulative case counts is initially exponential. Then there is a point of inflection where the curve nearly becomes linear. We assume that this point of inflection is the time around which the daily new case numbers will peak. After that the curve eventually flattens out. \n",
    "\n"
   ]
  },
  {
   "cell_type": "markdown",
   "metadata": {
    "colab_type": "text",
    "id": "xD6Pdy1zlsn5"
   },
   "source": [
    "# Fit the logistic function and extrapolate"
   ]
  },
  {
   "cell_type": "code",
   "execution_count": 8,
   "metadata": {
    "colab": {},
    "colab_type": "code",
    "id": "Z5DVOUq5CXxr"
   },
   "outputs": [],
   "source": [
    "# Initialize all the timesteps as x\n",
    "x = list(data.iloc[:,0])\n",
    "\n",
    "# Initialize all the Total Cases values as y\n",
    "y = list(data.iloc[:,1])\n",
    "\n",
    "# Fit the curve using sklearn's curve_fit method we initialize the parameter p0 with arbitrary values\n",
    "fit = curve_fit(logistic_model,x,y,p0=[2,100,20000])\n",
    "(a, b, c), cov = fit"
   ]
  },
  {
   "cell_type": "code",
   "execution_count": 9,
   "metadata": {
    "colab": {
     "base_uri": "https://localhost:8080/",
     "height": 69
    },
    "colab_type": "code",
    "id": "A19hgcFHS-DY",
    "outputId": "ae3740aa-d457-4b6e-9dc4-0cde15bf1044"
   },
   "outputs": [
    {
     "name": "stdout",
     "output_type": "stream",
     "text": [
      "Metric for speed of infections:  16.20631508987453\n",
      "Days from start when cumulative case counts will peak:  107.1474563906284\n",
      "Total cumulative cases that will be reached:  241550.61809833464\n"
     ]
    }
   ],
   "source": [
    "# Print outputs\n",
    "print('Metric for speed of infections: ', a)\n",
    "print('Days from start when cumulative case counts will peak: ', b)\n",
    "print('Total cumulative cases that will be reached: ', c)"
   ]
  },
  {
   "cell_type": "code",
   "execution_count": 10,
   "metadata": {
    "colab": {
     "base_uri": "https://localhost:8080/",
     "height": 52
    },
    "colab_type": "code",
    "id": "8urw7-CPCh1x",
    "outputId": "076eefa3-fce6-4e12-d61f-c2548b3f9d73"
   },
   "outputs": [
    {
     "name": "stdout",
     "output_type": "stream",
     "text": [
      "Errors in a, b and c respectively:\n",
      " [0.09581896432377757, 0.23092623035494553, 1431.4657531770454]\n"
     ]
    }
   ],
   "source": [
    "# Print errors for a, b, c\n",
    "errors = [np.sqrt(fit[1][i][i]) for i in [0,1,2]]\n",
    "print('Errors in a, b and c respectively:\\n', errors)"
   ]
  },
  {
   "cell_type": "code",
   "execution_count": 11,
   "metadata": {
    "colab": {
     "base_uri": "https://localhost:8080/",
     "height": 52
    },
    "colab_type": "code",
    "id": "JnX2fw3s0rOe",
    "outputId": "ea656ab4-1185-4f10-81c2-97982c4d512a"
   },
   "outputs": [
    {
     "name": "stdout",
     "output_type": "stream",
     "text": [
      "Estimated time of peak between 2020-06-22  and  2020-06-23\n",
      "Estimated total number of infections betweeen  240119.1523451576  and  242982.08385151168\n"
     ]
    }
   ],
   "source": [
    "# estimated time of peak\n",
    "print('Estimated time of peak between', start_date + timedelta(days=(b-errors[1])), ' and ', start_date + timedelta(days=(b+errors[1])))\n",
    "\n",
    "# estimated total number of infections \n",
    "print('Estimated total number of infections betweeen ', (c - errors[2]), ' and ', (c + errors[2]))"
   ]
  },
  {
   "cell_type": "markdown",
   "metadata": {
    "colab_type": "text",
    "id": "knVBTFiIq115"
   },
   "source": [
    "To extrapolate the curve to the future, use the fsolve function from scipy."
   ]
  },
  {
   "cell_type": "code",
   "execution_count": 12,
   "metadata": {
    "colab": {},
    "colab_type": "code",
    "id": "WGxbqC8zEm2C"
   },
   "outputs": [],
   "source": [
    "# Extrapolate\n",
    "sol = int(fsolve(lambda x : logistic_model(x,a,b,c) - int(c),b))"
   ]
  },
  {
   "cell_type": "markdown",
   "metadata": {
    "colab_type": "text",
    "id": "01GwCB7dlzZm"
   },
   "source": [
    "# Plot the graph"
   ]
  },
  {
   "cell_type": "code",
   "execution_count": 13,
   "metadata": {
    "colab": {
     "base_uri": "https://localhost:8080/",
     "height": 450
    },
    "colab_type": "code",
    "id": "fDucQA3XRvjY",
    "outputId": "95b3f82c-ecab-4ebc-f207-7aa95ae7e87d"
   },
   "outputs": [
    {
     "data": {
      "image/png": "[encoded data removed]",
      "text/plain": [
       "<Figure size 504x504 with 1 Axes>"
      ]
     },
     "metadata": {
      "needs_background": "light",
      "tags": []
     },
     "output_type": "display_data"
    }
   ],
   "source": [
    "pred_x = list(range(max(x),sol))\n",
    "plt.rcParams['figure.figsize'] = [7, 7]\n",
    "plt.rc('font', size=14)\n",
    "# Real data\n",
    "plt.scatter(x,y,label=\"Real data\",color=\"red\")\n",
    "# Predicted logistic curve\n",
    "plt.plot(x+pred_x, [logistic_model(i,fit[0][0],fit[0][1],fit[0][2]) for i in x+pred_x], label=\"Logistic model\" )\n",
    "plt.legend()\n",
    "plt.xlabel(\"Days since 8th March 2020\")\n",
    "plt.ylabel(\"Total number of infected people\")\n",
    "plt.ylim((min(y)*0.9,c*1.1))\n",
    "plt.show()"
   ]
  },
  {
   "cell_type": "markdown",
   "metadata": {
    "colab_type": "text",
    "id": "WT7e4H6JrKVy"
   },
   "source": [
    "# Evaluate the MSE error"
   ]
  },
  {
   "cell_type": "markdown",
   "metadata": {
    "colab_type": "text",
    "id": "La7mCZvZrNtY"
   },
   "source": [
    "Evaluating the mean squared error (MSE) is not very meaningful on its own until we can compare it with another predictive method. We can compare MSE of our regression with MSE from another method to check if our logistic regression model works better than the other predictive model. The model with the lower MSE performs better.\n",
    "\n",
    "\n"
   ]
  },
  {
   "cell_type": "code",
   "execution_count": 14,
   "metadata": {
    "colab": {
     "base_uri": "https://localhost:8080/",
     "height": 34
    },
    "colab_type": "code",
    "id": "-zzbYB1jjrEC",
    "outputId": "345473ed-33dc-425f-cce4-d64bac52947b"
   },
   "outputs": [
    {
     "name": "stdout",
     "output_type": "stream",
     "text": [
      "Mean squared error:  994036.2433783162\n"
     ]
    }
   ],
   "source": [
    "y_pred_logistic = [logistic_model(i,fit[0][0],fit[0][1],fit[0][2])\n",
    "for i in x]\n",
    "\n",
    "print('Mean squared error: ', mean_squared_error(y,y_pred_logistic))"
   ]
  },
  {
   "cell_type": "markdown",
   "metadata": {
    "colab_type": "text",
    "id": "k3VQXPTSxolE"
   },
   "source": [
    "# Epilogue"
   ]
  },
  {
   "cell_type": "markdown",
   "metadata": {
    "colab_type": "text",
    "id": "BfPLtgN0xqDR"
   },
   "source": [
    "We should be mindful of some caveats:\n",
    "\n",
    "* These predictions will only be meaningful when the peak has actually been crossed definitively. \n",
    "\n",
    "* Also, the reliability of the reported cases would also influence the dependability of the model. Developing countries, especially the South Asian countries have famously failed to report accurate disaster statisticcs in the past. \n",
    "\n",
    "* Also, the testing numbers are low overall, especially in cities outside Dhaka where the daily new cases still have not peaked yet.\n",
    "\n",
    "* Since most of the cases reported were in Dhaka, the findings indicate that the peak in Dhaka may have been reached already.\n",
    "\n",
    "* If there is a second outbreak before the first outbreak subsides, the curve may not be sigmoid shaped and hence the results may not be as meaningful.\n",
    "\n",
    "* The total reported case numbers will possibly be greater than 238000, because the daily new cases is still rising in some cities other than Dhaka. It is not unsound to expect that the total reported case count for this first instance of Covid-19 outbreak could very well reach 300000 or more.\n",
    "\n",
    "* The government recently hiked the prices of tests which may have led to increased unwillingness in suspected candidates to actually test for the disease, and that may have influenced the recent confirmed case counts."
   ]
  },
  {
   "cell_type": "markdown",
   "metadata": {
    "colab_type": "text",
    "id": "iOB24Y_C0LQN"
   },
   "source": [
    "# References"
   ]
  },
  {
   "cell_type": "markdown",
   "metadata": {
    "colab_type": "text",
    "id": "tXZydVgv0NV1"
   },
   "source": [
    "Inspiration for theory and code from the following articles:\n",
    "\n",
    "* [Covid-19 infection in Italy. Mathematical models and predictions](https://towardsdatascience.com/covid-19-infection-in-italy-mathematical-models-and-predictions-7784b4d7dd8d)\n",
    "\n",
    "* [Logistic growth modelling of COVID-19 proliferation in China and its international implications](https://www.sciencedirect.com/science/article/pii/S1201971220303039)\n",
    "\n",
    "* [Logistic Growth Model for COVID-19](https://www.wolframcloud.com/obj/covid-19/Published/Logistic-Growth-Model-for-COVID-19.nb)\n"
   ]
  }
 ],
 "metadata": {
  "colab": {
   "collapsed_sections": [],
   "name": "Projecting Covid-19 Case Growth in Bangladesh Using Logistic Regression.ipynb",
   "provenance": []
  },
  "kernelspec": {
   "display_name": "Python 3",
   "language": "python",
   "name": "python3"
  },
  "language_info": {
   "codemirror_mode": {
    "name": "ipython",
    "version": 3
   },
   "file_extension": ".py",
   "mimetype": "text/x-python",
   "name": "python",
   "nbconvert_exporter": "python",
   "pygments_lexer": "ipython3",
   "version": "3.6.4"
  }
 },
 "nbformat": 4,
 "nbformat_minor": 1
}
