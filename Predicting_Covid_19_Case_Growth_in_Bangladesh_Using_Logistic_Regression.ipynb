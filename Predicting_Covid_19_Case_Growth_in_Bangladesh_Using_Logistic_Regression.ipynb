{
  "nbformat": 4,
  "nbformat_minor": 0,
  "metadata": {
    "colab": {
      "name": "Predicting Covid-19 Case Growth in Bangladesh Using Logistic Regression.ipynb",
      "provenance": [],
      "collapsed_sections": []
    },
    "kernelspec": {
      "name": "python3",
      "display_name": "Python 3"
    }
  },
  "cells": [
    {
      "cell_type": "markdown",
      "metadata": {
        "id": "v1HmHsbrwoJo",
        "colab_type": "text"
      },
      "source": [
        "# Prologue"
      ]
    },
    {
      "cell_type": "markdown",
      "metadata": {
        "id": "QSEt4RdhwrBU",
        "colab_type": "text"
      },
      "source": [
        "For this project we will use the logistic regression function to model the growth of confirmed Covid-19 case population growth in Bangladesh. The logistic regression function is commonly used in classification problems, and in this project we will be examining how it fares as a regression tool. Both cumulative case counts over time and logistic regression curves have a sigmoid shape and we shall try to fit a theoretically predicted curve over the actual cumulative case counts over time to reach certain conclusions about the case count growth, such as the time of peak daily new cases and the total cases that may be reached during this outbreak."
      ]
    },
    {
      "cell_type": "markdown",
      "metadata": {
        "id": "pEPKfSo2M26z",
        "colab_type": "text"
      },
      "source": [
        "# Import the necessary modules"
      ]
    },
    {
      "cell_type": "code",
      "metadata": {
        "id": "uHNTs2fZM_0H",
        "colab_type": "code",
        "colab": {}
      },
      "source": [
        "import pandas as pd\n",
        "import numpy as np\n",
        "from datetime import datetime,timedelta\n",
        "from sklearn.metrics import mean_squared_error\n",
        "from scipy.optimize import curve_fit\n",
        "from scipy.optimize import fsolve\n",
        "import matplotlib.pyplot as plt\n",
        "%matplotlib inline"
      ],
      "execution_count": 1,
      "outputs": []
    },
    {
      "cell_type": "markdown",
      "metadata": {
        "id": "xAU4tTuDNArY",
        "colab_type": "text"
      },
      "source": [
        "# Connect to Google Drive (where the data is kept)"
      ]
    },
    {
      "cell_type": "code",
      "metadata": {
        "id": "-D_x8cSKEJe3",
        "colab_type": "code",
        "colab": {
          "base_uri": "https://localhost:8080/",
          "height": 34
        },
        "outputId": "af694aa9-2c83-4a03-a042-be1de2de0c9b"
      },
      "source": [
        "from google.colab import drive\n",
        "drive.mount('/content/drive')"
      ],
      "execution_count": 2,
      "outputs": [
        {
          "output_type": "stream",
          "text": [
            "Drive already mounted at /content/drive; to attempt to forcibly remount, call drive.mount(\"/content/drive\", force_remount=True).\n"
          ],
          "name": "stdout"
        }
      ]
    },
    {
      "cell_type": "markdown",
      "metadata": {
        "id": "-UzIS99Gvs8L",
        "colab_type": "text"
      },
      "source": [
        "# Import data and format as needed"
      ]
    },
    {
      "cell_type": "code",
      "metadata": {
        "id": "0O9r7IJuF1rX",
        "colab_type": "code",
        "colab": {
          "base_uri": "https://localhost:8080/",
          "height": 198
        },
        "outputId": "ed6b7554-3256-4840-f4b1-750231598db2"
      },
      "source": [
        "df = pd.read_csv('/content/drive/My Drive/Corona-Cases.n-1.csv')\n",
        "df.tail()"
      ],
      "execution_count": 3,
      "outputs": [
        {
          "output_type": "execute_result",
          "data": {
            "text/html": [
              "<div>\n",
              "<style scoped>\n",
              "    .dataframe tbody tr th:only-of-type {\n",
              "        vertical-align: middle;\n",
              "    }\n",
              "\n",
              "    .dataframe tbody tr th {\n",
              "        vertical-align: top;\n",
              "    }\n",
              "\n",
              "    .dataframe thead th {\n",
              "        text-align: right;\n",
              "    }\n",
              "</style>\n",
              "<table border=\"1\" class=\"dataframe\">\n",
              "  <thead>\n",
              "    <tr style=\"text-align: right;\">\n",
              "      <th></th>\n",
              "      <th>Date</th>\n",
              "      <th>Total cases</th>\n",
              "    </tr>\n",
              "  </thead>\n",
              "  <tbody>\n",
              "    <tr>\n",
              "      <th>121</th>\n",
              "      <td>7-07-2020</td>\n",
              "      <td>168645</td>\n",
              "    </tr>\n",
              "    <tr>\n",
              "      <th>122</th>\n",
              "      <td>7-08-2020</td>\n",
              "      <td>172134</td>\n",
              "    </tr>\n",
              "    <tr>\n",
              "      <th>123</th>\n",
              "      <td>7-09-2020</td>\n",
              "      <td>175494</td>\n",
              "    </tr>\n",
              "    <tr>\n",
              "      <th>124</th>\n",
              "      <td>7-10-2020</td>\n",
              "      <td>178443</td>\n",
              "    </tr>\n",
              "    <tr>\n",
              "      <th>125</th>\n",
              "      <td>7-11-2020</td>\n",
              "      <td>181129</td>\n",
              "    </tr>\n",
              "  </tbody>\n",
              "</table>\n",
              "</div>"
            ],
            "text/plain": [
              "          Date  Total cases\n",
              "121  7-07-2020       168645\n",
              "122  7-08-2020       172134\n",
              "123  7-09-2020       175494\n",
              "124  7-10-2020       178443\n",
              "125  7-11-2020       181129"
            ]
          },
          "metadata": {
            "tags": []
          },
          "execution_count": 3
        }
      ]
    },
    {
      "cell_type": "markdown",
      "metadata": {
        "id": "SPi0B5CINUhz",
        "colab_type": "text"
      },
      "source": [
        "As you can see, the format of the date is 'month-day-year'. Let's specify the date column is datetime type. Let's also specify the formatting as %m-%d-%Y. And then, let's find the day when the first confirmed cases of Covid-19 were reported in Bangladesh."
      ]
    },
    {
      "cell_type": "code",
      "metadata": {
        "id": "lIqQf1hx4hdd",
        "colab_type": "code",
        "colab": {}
      },
      "source": [
        "FMT = '%m-%d-%Y'\n",
        "df['Date'] = pd.to_datetime(df['Date'], format=FMT)"
      ],
      "execution_count": 4,
      "outputs": []
    },
    {
      "cell_type": "markdown",
      "metadata": {
        "id": "TIV95PiJcXEv",
        "colab_type": "text"
      },
      "source": [
        "We have to initialize the first date of confirmed Covid-19 cases as the datetime variable start_date because we would need it later to calculate the peak."
      ]
    },
    {
      "cell_type": "code",
      "metadata": {
        "id": "-uC88BrA9que",
        "colab_type": "code",
        "colab": {
          "base_uri": "https://localhost:8080/",
          "height": 34
        },
        "outputId": "0c268dec-2710-4c31-9bda-12fb9818b6d0"
      },
      "source": [
        "# Initialize the start date\n",
        "start_date = datetime.date(df.loc[0, 'Date'])\n",
        "print('Start date: ', start_date)"
      ],
      "execution_count": 5,
      "outputs": [
        {
          "output_type": "stream",
          "text": [
            "Start date:  2020-03-08\n"
          ],
          "name": "stdout"
        }
      ]
    },
    {
      "cell_type": "markdown",
      "metadata": {
        "id": "Q0CZis2zOjOL",
        "colab_type": "text"
      },
      "source": [
        "Now, for the logistic regression function, we would need a timestep column instead of a date column in the dataframe. So we create a new dataframe called data where we drop the date column and use the index as the timestep column."
      ]
    },
    {
      "cell_type": "code",
      "metadata": {
        "id": "Dt29_jOvY5iU",
        "colab_type": "code",
        "colab": {
          "base_uri": "https://localhost:8080/",
          "height": 198
        },
        "outputId": "6fcc0bb8-d6b1-4b71-f2f2-4226a4b0fd63"
      },
      "source": [
        "# drop date column\n",
        "data = df['Total cases']\n",
        "\n",
        "# reset index and create a timestep\n",
        "data = data.reset_index(drop=False)\n",
        "\n",
        "# rename columns\n",
        "data.columns = ['Timestep', 'Total Cases']\n",
        "\n",
        "# check\n",
        "data.tail()"
      ],
      "execution_count": 6,
      "outputs": [
        {
          "output_type": "execute_result",
          "data": {
            "text/html": [
              "<div>\n",
              "<style scoped>\n",
              "    .dataframe tbody tr th:only-of-type {\n",
              "        vertical-align: middle;\n",
              "    }\n",
              "\n",
              "    .dataframe tbody tr th {\n",
              "        vertical-align: top;\n",
              "    }\n",
              "\n",
              "    .dataframe thead th {\n",
              "        text-align: right;\n",
              "    }\n",
              "</style>\n",
              "<table border=\"1\" class=\"dataframe\">\n",
              "  <thead>\n",
              "    <tr style=\"text-align: right;\">\n",
              "      <th></th>\n",
              "      <th>Timestep</th>\n",
              "      <th>Total Cases</th>\n",
              "    </tr>\n",
              "  </thead>\n",
              "  <tbody>\n",
              "    <tr>\n",
              "      <th>121</th>\n",
              "      <td>121</td>\n",
              "      <td>168645</td>\n",
              "    </tr>\n",
              "    <tr>\n",
              "      <th>122</th>\n",
              "      <td>122</td>\n",
              "      <td>172134</td>\n",
              "    </tr>\n",
              "    <tr>\n",
              "      <th>123</th>\n",
              "      <td>123</td>\n",
              "      <td>175494</td>\n",
              "    </tr>\n",
              "    <tr>\n",
              "      <th>124</th>\n",
              "      <td>124</td>\n",
              "      <td>178443</td>\n",
              "    </tr>\n",
              "    <tr>\n",
              "      <th>125</th>\n",
              "      <td>125</td>\n",
              "      <td>181129</td>\n",
              "    </tr>\n",
              "  </tbody>\n",
              "</table>\n",
              "</div>"
            ],
            "text/plain": [
              "     Timestep  Total Cases\n",
              "121       121       168645\n",
              "122       122       172134\n",
              "123       123       175494\n",
              "124       124       178443\n",
              "125       125       181129"
            ]
          },
          "metadata": {
            "tags": []
          },
          "execution_count": 6
        }
      ]
    },
    {
      "cell_type": "markdown",
      "metadata": {
        "id": "Ejxnv_wrdCQt",
        "colab_type": "text"
      },
      "source": [
        "# Defining the logistic regression function"
      ]
    },
    {
      "cell_type": "code",
      "metadata": {
        "id": "DANu416pIBUJ",
        "colab_type": "code",
        "colab": {}
      },
      "source": [
        "def logistic_model(x,a,b,c):\n",
        "    return c/(1+np.exp(-(x-b)/a))"
      ],
      "execution_count": 7,
      "outputs": []
    },
    {
      "cell_type": "markdown",
      "metadata": {
        "id": "VkOJLu4uYOrl",
        "colab_type": "text"
      },
      "source": [
        "In this formula, we have the variable x that is the time and three parameters: a, b, c.\n",
        "* a is a metric for the speed of infections\n",
        "* b is the day with the estimated maximum growth rate of confirmed Covid-19 cases\n",
        "* c is the maximum number the cumulative confirmed cases will reach by the end of the first outbreak here in Bangladesh\n",
        "\n",
        "The growth of cumulative cases follows a sigmoid shape like the logistic regression curve and hence, this may be a good way to model the growth of the confirmed Covid-19 case population over time. For the first outbreak at least. It makes sense because, for an outbreak, the rise in cumulative case counts is initially exponential. Then there is a point of inflection where the curve nearly becomes linear. We assume that this point of inflection is the time around which the daily new case numbers will peak. After that the curve eventually flattens out. \n",
        "\n"
      ]
    },
    {
      "cell_type": "markdown",
      "metadata": {
        "id": "xD6Pdy1zlsn5",
        "colab_type": "text"
      },
      "source": [
        "# Fit the logistic function and extrapolate"
      ]
    },
    {
      "cell_type": "code",
      "metadata": {
        "id": "Z5DVOUq5CXxr",
        "colab_type": "code",
        "colab": {}
      },
      "source": [
        "# Initialize all the timesteps as x\n",
        "x = list(data.iloc[:,0])\n",
        "\n",
        "# Initialize all the Total Cases values as y\n",
        "y = list(data.iloc[:,1])\n",
        "\n",
        "# Fit the curve using sklearn's curve_fit method we initialize the parameter p0 with arbitrary values\n",
        "fit = curve_fit(logistic_model,x,y,p0=[2,100,20000])\n",
        "(a, b, c), cov = fit"
      ],
      "execution_count": 8,
      "outputs": []
    },
    {
      "cell_type": "code",
      "metadata": {
        "id": "A19hgcFHS-DY",
        "colab_type": "code",
        "colab": {
          "base_uri": "https://localhost:8080/",
          "height": 69
        },
        "outputId": "5f0e4339-d946-4284-e3d6-75575b1b7be4"
      },
      "source": [
        "# Print outputs\n",
        "print('Metric for speed of infections: ', a)\n",
        "print('Days from start when cumulative case counts will peak: ', b)\n",
        "print('Total cumulative cases that will be reached: ', c)"
      ],
      "execution_count": 9,
      "outputs": [
        {
          "output_type": "stream",
          "text": [
            "Metric for speed of infections:  16.014123121491068\n",
            "Days from start when cumulative case counts will peak:  106.45869659663947\n",
            "Total cumulative cases that will be reached:  236784.81361031317\n"
          ],
          "name": "stdout"
        }
      ]
    },
    {
      "cell_type": "code",
      "metadata": {
        "id": "8urw7-CPCh1x",
        "colab_type": "code",
        "colab": {
          "base_uri": "https://localhost:8080/",
          "height": 52
        },
        "outputId": "47115d77-99e3-4047-f1a0-89a41a7a32da"
      },
      "source": [
        "# Print errors for a, b, c\n",
        "errors = [np.sqrt(fit[1][i][i]) for i in [0,1,2]]\n",
        "print('Errors in a, b and c respectively:\\n', errors)"
      ],
      "execution_count": 10,
      "outputs": [
        {
          "output_type": "stream",
          "text": [
            "Errors in a, b and c respectively:\n",
            " [0.10361646729259785, 0.2778127848082606, 1787.7302815067274]\n"
          ],
          "name": "stdout"
        }
      ]
    },
    {
      "cell_type": "code",
      "metadata": {
        "id": "JnX2fw3s0rOe",
        "colab_type": "code",
        "colab": {
          "base_uri": "https://localhost:8080/",
          "height": 52
        },
        "outputId": "2de2af2e-3812-4e63-e8bf-e5152b96097a"
      },
      "source": [
        "# estimated time of peak\n",
        "print('Estimated time of peak between', start_date + timedelta(days=(b-errors[1])), ' and ', start_date + timedelta(days=(b+errors[1])))\n",
        "\n",
        "# estimated total number of infections \n",
        "print('Estimated total number of infections betweeen ', (c - errors[2]), ' and ', (c + errors[2]))"
      ],
      "execution_count": 11,
      "outputs": [
        {
          "output_type": "stream",
          "text": [
            "Estimated time of peak between 2020-06-22  and  2020-06-22\n",
            "Estimated total number of infections betweeen  234997.08332880645  and  238572.5438918199\n"
          ],
          "name": "stdout"
        }
      ]
    },
    {
      "cell_type": "markdown",
      "metadata": {
        "id": "knVBTFiIq115",
        "colab_type": "text"
      },
      "source": [
        "To extrapolate the curve to the future, use the fsolve function from scipy."
      ]
    },
    {
      "cell_type": "code",
      "metadata": {
        "id": "WGxbqC8zEm2C",
        "colab_type": "code",
        "colab": {}
      },
      "source": [
        "# Extrapolate\n",
        "sol = int(fsolve(lambda x : logistic_model(x,a,b,c) - int(c),b))"
      ],
      "execution_count": 12,
      "outputs": []
    },
    {
      "cell_type": "markdown",
      "metadata": {
        "id": "01GwCB7dlzZm",
        "colab_type": "text"
      },
      "source": [
        "# Plot the graph"
      ]
    },
    {
      "cell_type": "code",
      "metadata": {
        "id": "fDucQA3XRvjY",
        "colab_type": "code",
        "colab": {
          "base_uri": "https://localhost:8080/",
          "height": 450
        },
        "outputId": "cb95a13b-a4f6-45ce-e154-a8f2d7a2e0a8"
      },
      "source": [
        "pred_x = list(range(max(x),sol))\n",
        "plt.rcParams['figure.figsize'] = [7, 7]\n",
        "plt.rc('font', size=14)\n",
        "# Real data\n",
        "plt.scatter(x,y,label=\"Real data\",color=\"red\")\n",
        "# Predicted logistic curve\n",
        "plt.plot(x+pred_x, [logistic_model(i,fit[0][0],fit[0][1],fit[0][2]) for i in x+pred_x], label=\"Logistic model\" )\n",
        "plt.legend()\n",
        "plt.xlabel(\"Days since 8th March 2020\")\n",
        "plt.ylabel(\"Total number of infected people\")\n",
        "plt.ylim((min(y)*0.9,c*1.1))\n",
        "plt.show()"
      ],
      "execution_count": 13,
      "outputs": [
        {
          "output_type": "display_data",
          "data": {
            "image/png": "[encoded data removed]",
            "text/plain": [
              "<Figure size 504x504 with 1 Axes>"
            ]
          },
          "metadata": {
            "tags": [],
            "needs_background": "light"
          }
        }
      ]
    },
    {
      "cell_type": "markdown",
      "metadata": {
        "id": "WT7e4H6JrKVy",
        "colab_type": "text"
      },
      "source": [
        "# Evaluate the MSE error"
      ]
    },
    {
      "cell_type": "markdown",
      "metadata": {
        "id": "La7mCZvZrNtY",
        "colab_type": "text"
      },
      "source": [
        "Evaluating the mean squared error (MSE) is not very meaningful on its own until we can compare it with another predictive method. We can compare MSE of our regression with MSE from another method to check if our logistic regression model works better than the other predictive model. The model with the lower MSE performs better.\n",
        "\n",
        "\n"
      ]
    },
    {
      "cell_type": "code",
      "metadata": {
        "id": "-zzbYB1jjrEC",
        "colab_type": "code",
        "colab": {
          "base_uri": "https://localhost:8080/",
          "height": 34
        },
        "outputId": "3d98c9c8-6b6b-496a-cd47-494d4fd16651"
      },
      "source": [
        "y_pred_logistic = [logistic_model(i,fit[0][0],fit[0][1],fit[0][2])\n",
        "for i in x]\n",
        "\n",
        "print('Mean squared error: ', mean_squared_error(y,y_pred_logistic))"
      ],
      "execution_count": 15,
      "outputs": [
        {
          "output_type": "stream",
          "text": [
            "Mean squared error:  904749.4555313156\n"
          ],
          "name": "stdout"
        }
      ]
    },
    {
      "cell_type": "markdown",
      "metadata": {
        "id": "k3VQXPTSxolE",
        "colab_type": "text"
      },
      "source": [
        "# Epilogue"
      ]
    },
    {
      "cell_type": "markdown",
      "metadata": {
        "id": "BfPLtgN0xqDR",
        "colab_type": "text"
      },
      "source": [
        "We should be mindful of some caveats:\n",
        "\n",
        "* These predictions will only be meaningful when the peak has actually been crossed definitively. \n",
        "\n",
        "* Also, the reliability of the reported cases would also influence the dependability of the model. Developing countries, especially the South Asian countries have famously failed to report accurate disaster statisticcs in the past. \n",
        "\n",
        "* Also, the testing numbers are low overall, especially in cities outside Dhaka where the daily new cases still have not peaked yet.\n",
        "\n",
        "* Since most of the cases reported were in Dhaka, the findings indicate that the peak in Dhaka may have been reached already.\n",
        "\n",
        "* If there is a second outbreak before the first outbreak subsides, the curve may not be sigmoid shaped and hence the results may not be as meaningful.\n",
        "\n",
        "* The total reported case numbers will possibly be greater than 238000, because the daily new cases is still rising in some cities other than Dhaka. It is not unsound to expect that the total reported case count for this first instance of Covid-19 outbreak could very well reach 300000 or more.\n",
        "\n",
        "* The government recently hiked the prices of tests which may have led to increased unwillingness in suspected candidates to actually test for the disease, and that may have influenced the recent confirmed case counts."
      ]
    },
    {
      "cell_type": "markdown",
      "metadata": {
        "id": "iOB24Y_C0LQN",
        "colab_type": "text"
      },
      "source": [
        "# References"
      ]
    },
    {
      "cell_type": "markdown",
      "metadata": {
        "id": "tXZydVgv0NV1",
        "colab_type": "text"
      },
      "source": [
        "Inspiration for theory and code from the following articles:\n",
        "\n",
        "* [Covid-19 infection in Italy. Mathematical models and predictions](https://towardsdatascience.com/covid-19-infection-in-italy-mathematical-models-and-predictions-7784b4d7dd8d)\n",
        "\n",
        "* [Logistic growth modelling of COVID-19 proliferation in China and its international implications](https://www.sciencedirect.com/science/article/pii/S1201971220303039)\n",
        "\n",
        "* [Logistic Growth Model for COVID-19](https://www.wolframcloud.com/obj/covid-19/Published/Logistic-Growth-Model-for-COVID-19.nb)\n"
      ]
    }
  ]
}